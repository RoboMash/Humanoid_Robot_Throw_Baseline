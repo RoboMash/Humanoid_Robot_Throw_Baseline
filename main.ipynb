{
 "cells": [
  {
   "cell_type": "code",
   "execution_count": null,
   "metadata": {},
   "outputs": [],
   "source": [
    "import numpy as np\n",
    "import matplotlib.pyplot as plt\n",
    "from robot import Robot\n",
    "from pid import PID"
   ]
  },
  {
   "cell_type": "code",
   "execution_count": null,
   "metadata": {},
   "outputs": [],
   "source": [
    "T = 5000\n",
    "dt = 1e-3\n",
    "p_gain = 11.\n",
    "d_gain = 17./np.sqrt(2) \n",
    "x0 =np.array([[2000.],[140.]])\n",
    "#np.zeros([2, 1]) \n",
    "#print(np.zeros([2, 1]))\n",
    "u_list = [0.]*T\n",
    "x_list = [0.] *T\n",
    "t_list = [0] *T\n",
    "xa=np.array(x_list)\n",
    "print(xa.shape)\n",
    "theta_des = 0.\n",
    "u_des = 0. \n",
    "t = 0.\n",
    "robot = Robot(x0)\n",
    "pid = PID(p_gain,0.,d_gain, t)"
   ]
  },
  {
   "cell_type": "code",
   "execution_count": null,
   "metadata": {},
   "outputs": [],
   "source": [
    "for i in range(T):\n",
    "    print('simulation step: %d'%i)\n",
    "    x = robot.getState()\n",
    "    #######controller#######\n",
    "    theta = x[0,0]\n",
    "    pid.SetPoint = theta_des\n",
    "    pid.update(theta, t)\n",
    "    o=pid.output\n",
    "    u = u_des - o\n",
    "    #######controller#######\n",
    "    x_list[i] = x\n",
    "    u_list[i] = u\n",
    "    t_list[i] = t\n",
    "    robot.step(u)\n",
    "    t += dt"
   ]
  },
  {
   "cell_type": "code",
   "execution_count": null,
   "metadata": {},
   "outputs": [],
   "source": [
    "xa=np.array(x_list)\n",
    "ta=np.array(t_list)"
   ]
  },
  {
   "cell_type": "code",
   "execution_count": null,
   "metadata": {},
   "outputs": [],
   "source": [
    "xa.reshape(len(x_list),2)\n",
    "plt.plot(t_list,xa[:,0])"
   ]
  },
  {
   "cell_type": "code",
   "execution_count": null,
   "metadata": {},
   "outputs": [],
   "source": [
    "plt.plot(t_list,xa[:,1])"
   ]
  },
  {
   "cell_type": "code",
   "execution_count": null,
   "metadata": {},
   "outputs": [],
   "source": [
    "plt.plot(t_list,u_list)"
   ]
  }
 ],
 "metadata": {
  "kernelspec": {
   "display_name": "Python 3",
   "language": "python",
   "name": "python3"
  },
  "language_info": {
   "codemirror_mode": {
    "name": "ipython",
    "version": 3
   },
   "file_extension": ".py",
   "mimetype": "text/x-python",
   "name": "python",
   "nbconvert_exporter": "python",
   "pygments_lexer": "ipython3",
   "version": "3.7.3"
  }
 },
 "nbformat": 4,
 "nbformat_minor": 5
}
